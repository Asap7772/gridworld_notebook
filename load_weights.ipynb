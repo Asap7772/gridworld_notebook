{
 "cells": [
  {
   "cell_type": "code",
   "execution_count": 9,
   "metadata": {},
   "outputs": [],
   "source": [
    "import torch.nn as nn\n",
    "import torch.nn.functional as F\n",
    "import torch.optim as optim\n",
    "import torch\n",
    "import torch.autograd as autograd\n",
    "import numpy as np\n",
    "\n",
    "import argparse\n",
    "from collections import defaultdict\n",
    "from copy import copy\n",
    "from distutils.command.config import config\n",
    "from foo import Nop\n",
    "import numpy as np\n",
    "import torch\n",
    "import random\n",
    "import os\n",
    "\n",
    "device = torch.device(\"cpu\")\n",
    "\n",
    "#fix seed\n",
    "seed=42\n",
    "os.environ['PYTHONHASHSEED'] = str(seed)\n",
    "# Torch RNG\n",
    "torch.manual_seed(seed)\n",
    "torch.cuda.manual_seed(seed)\n",
    "torch.cuda.manual_seed_all(seed)\n",
    "# Python RNG\n",
    "np.random.seed(seed)\n",
    "random.seed(seed)"
   ]
  },
  {
   "cell_type": "code",
   "execution_count": 10,
   "metadata": {},
   "outputs": [],
   "source": [
    "def stack_observations(env):\n",
    "    obs = []\n",
    "    for s in range(env.num_states):\n",
    "        obs.append(env.observation(s))\n",
    "    return np.stack(obs)\n",
    "    \n",
    "class FCNetwork(torch.nn.Module):\n",
    "    def __init__(self, env, layers=[20,20]):\n",
    "        super(FCNetwork, self).__init__()\n",
    "        self.all_observations = torch.tensor(stack_observations(env), dtype=torch.float32).to(device)\n",
    "        dim_input = env.dim_obs\n",
    "        dim_output = env.num_actions\n",
    "        net_layers = []\n",
    "\n",
    "        dim = dim_input\n",
    "        for i, layer_size in enumerate(layers):\n",
    "            net_layers.append(torch.nn.Linear(dim, layer_size))\n",
    "            net_layers.append(torch.nn.ReLU())\n",
    "            dim = layer_size\n",
    "        net_layers.append(torch.nn.Linear(dim, dim_output))\n",
    "        self.layers = net_layers\n",
    "        self.network = torch.nn.Sequential(*net_layers).to(device)\n",
    "\n",
    "    def forward(self, states):\n",
    "        observations = torch.index_select(self.all_observations.to(device), 0, states.to(device))\n",
    "        return self.network(observations)"
   ]
  },
  {
   "cell_type": "code",
   "execution_count": 11,
   "metadata": {},
   "outputs": [],
   "source": [
    "path = '/home/asap7772/asap7772/algo_gridworld/data/exp_maze5_datasetmixed_limited_skewed_size-2_envsmooth_minq0.1_ttype13_const2.0/net_limited.pt'\n",
    "net = torch.load(path)"
   ]
  },
  {
   "cell_type": "code",
   "execution_count": 12,
   "metadata": {},
   "outputs": [
    {
     "data": {
      "text/plain": [
       "FCNetwork(\n",
       "  (network): Sequential(\n",
       "    (0): Linear(in_features=8, out_features=128, bias=True)\n",
       "    (1): ReLU()\n",
       "    (2): Linear(in_features=128, out_features=128, bias=True)\n",
       "    (3): ReLU()\n",
       "    (4): Linear(in_features=128, out_features=5, bias=True)\n",
       "  )\n",
       ")"
      ]
     },
     "execution_count": 12,
     "metadata": {},
     "output_type": "execute_result"
    }
   ],
   "source": [
    "net"
   ]
  },
  {
   "cell_type": "code",
   "execution_count": null,
   "metadata": {},
   "outputs": [],
   "source": []
  }
 ],
 "metadata": {
  "interpreter": {
   "hash": "cee043b561a8c77439bc4e8364adf9262d1c07e39fd4b6ce93daa65c77823301"
  },
  "kernelspec": {
   "display_name": "Python 3.8.11 ('SimpleSAC')",
   "language": "python",
   "name": "python3"
  },
  "language_info": {
   "codemirror_mode": {
    "name": "ipython",
    "version": 3
   },
   "file_extension": ".py",
   "mimetype": "text/x-python",
   "name": "python",
   "nbconvert_exporter": "python",
   "pygments_lexer": "ipython3",
   "version": "3.8.12"
  },
  "orig_nbformat": 4
 },
 "nbformat": 4,
 "nbformat_minor": 2
}
